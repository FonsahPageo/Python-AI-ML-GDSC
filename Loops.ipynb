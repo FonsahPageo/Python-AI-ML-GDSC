{
 "cells": [
  {
   "cell_type": "code",
   "execution_count": 1,
   "id": "0245c149",
   "metadata": {},
   "outputs": [],
   "source": [
    "import random"
   ]
  },
  {
   "cell_type": "code",
   "execution_count": 2,
   "id": "7e95f4ff",
   "metadata": {},
   "outputs": [],
   "source": [
    "n = 20"
   ]
  },
  {
   "cell_type": "code",
   "execution_count": 3,
   "id": "2e174350",
   "metadata": {},
   "outputs": [],
   "source": [
    "to_be_guessed = int(n * random.random()) + 1"
   ]
  },
  {
   "cell_type": "code",
   "execution_count": 6,
   "id": "3133d2ec",
   "metadata": {},
   "outputs": [
    {
     "name": "stdout",
     "output_type": "stream",
     "text": [
      "New Number: 4\n",
      "Number too small\n",
      "New Number: 98\n",
      "Number too large\n",
      "New Number: 20\n",
      "Number too large\n",
      "New Number: 1\n",
      "Number too small\n",
      "New Number: 2\n",
      "Number too small\n",
      "New Number: 3\n",
      "Number too small\n",
      "New Number: 4\n",
      "Number too small\n",
      "New Number: 5\n",
      "Number too small\n",
      "New Number: 6\n",
      "Number too small\n",
      "New Number: 7\n",
      "Number too small\n",
      "New Number: 8\n",
      "Number too small\n",
      "New Number: 9\n",
      "Number too small\n",
      "New Number: 10\n",
      "Number too small\n",
      "New Number: 11\n",
      "Number too small\n",
      "New Number: 12\n",
      "Number too small\n",
      "New Number: 13\n",
      "Number too small\n",
      "New Number: 15\n",
      "Number too small\n",
      "New Number: 15\n",
      "Number too small\n",
      "New Number: 16\n",
      "Number too small\n",
      "New Number: 17\n",
      "Number too small\n",
      "New Number: 18\n",
      "Congratulations, you made it\n"
     ]
    }
   ],
   "source": [
    "guess = 0\n",
    "while guess != to_be_guessed:\n",
    "    guess = int(input(\"New Number: \"))\n",
    "    if guess > 0:\n",
    "        if guess > to_be_guessed:\n",
    "            print(\"Number too large\")\n",
    "        elif guess < to_be_guessed:\n",
    "            print(\"Number too small\")\n",
    "    else:\n",
    "        print(\"sorry that you're giving up!\")\n",
    "        break\n",
    "else:\n",
    "    print(\"Congratulations, you made it\")"
   ]
  },
  {
   "cell_type": "code",
   "execution_count": 9,
   "id": "c4f0c21b",
   "metadata": {},
   "outputs": [
    {
     "name": "stdout",
     "output_type": "stream",
     "text": [
      "Current fruit in list is  mango\n",
      "Current fruit in list is  guava\n",
      "Current fruit in list is  apples\n",
      "Current fruit in list is  pear\n"
     ]
    }
   ],
   "source": [
    "fruits = ['mango', 'guava', 'apples', 'pear']\n",
    "for fruit in fruits:\n",
    "    print(\"Current fruit in list is \", fruit)"
   ]
  },
  {
   "cell_type": "code",
   "execution_count": null,
   "id": "c951c071",
   "metadata": {},
   "outputs": [],
   "source": []
  }
 ],
 "metadata": {
  "kernelspec": {
   "display_name": "Python 3 (ipykernel)",
   "language": "python",
   "name": "python3"
  },
  "language_info": {
   "codemirror_mode": {
    "name": "ipython",
    "version": 3
   },
   "file_extension": ".py",
   "mimetype": "text/x-python",
   "name": "python",
   "nbconvert_exporter": "python",
   "pygments_lexer": "ipython3",
   "version": "3.9.7"
  }
 },
 "nbformat": 4,
 "nbformat_minor": 5
}
