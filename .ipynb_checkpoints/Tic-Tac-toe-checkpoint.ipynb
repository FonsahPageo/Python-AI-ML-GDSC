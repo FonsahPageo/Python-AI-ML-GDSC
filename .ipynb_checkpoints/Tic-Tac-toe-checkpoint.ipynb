{
 "cells": [
  {
   "cell_type": "markdown",
   "id": "a878cbdb",
   "metadata": {},
   "source": [
    "# Tic Tac Toe game in Python"
   ]
  },
  {
   "cell_type": "code",
   "execution_count": null,
   "id": "4ca5e4dd",
   "metadata": {},
   "outputs": [],
   "source": [
    "board = [' ' for x in range(10)]"
   ]
  },
  {
   "cell_type": "code",
   "execution_count": 2,
   "id": "45457b9d",
   "metadata": {},
   "outputs": [],
   "source": [
    "def insertLetter(letter, pos):\n",
    "    board[pos] = letter"
   ]
  },
  {
   "cell_type": "code",
   "execution_count": 3,
   "id": "65a76620",
   "metadata": {},
   "outputs": [],
   "source": [
    "def spaceIsFree(pos):\n",
    "    return board[pos] == ' '"
   ]
  },
  {
   "cell_type": "code",
   "execution_count": 4,
   "id": "b3072414",
   "metadata": {},
   "outputs": [],
   "source": [
    "def printBoard(board):\n",
    "    print('   |   |')\n",
    "    print(' ' + board[1] + ' | ' + board[2] + ' | '  + board[3])\n",
    "    print('   |   |')\n",
    "    print('-----------')\n",
    "    print('   |   |')\n",
    "    print(' ' + board[4] + ' | ' + board[5] + ' | '  + board[6])\n",
    "    print('   |   |')\n",
    "    print('-----------')\n",
    "    print('   |   |')\n",
    "    print(' ' + board[7] + ' | ' + board[8] + ' | '  + board[9])\n",
    "    print('   |   |')"
   ]
  },
  {
   "cell_type": "code",
   "execution_count": 5,
   "id": "e1743e9a",
   "metadata": {},
   "outputs": [],
   "source": [
    "def isWinner(bo, le):\n",
    "    return (bo[7] == le and bo[8] == le and bo[9] == le) or (bo[4] == le and bo[5] == le and bo[6] == le) or (bo[1] == le and bo[2] == le and bo[3] == le) or (bo[1] == le and bo[4] == le and bo[7] == le) or (bo[2] == le and bo[5] == le and bo[8] == le) or (bo[3] == le and bo[6] == le and bo[9] == le) or (bo[1] == le and bo[5] == le and bo[9] == le) or (bo[3] == le and bo[5] == le and bo[7] == le)"
   ]
  },
  {
   "cell_type": "code",
   "execution_count": 6,
   "id": "da56ea0a",
   "metadata": {},
   "outputs": [],
   "source": [
    "def playerMove():\n",
    "    run = True\n",
    "    while run:\n",
    "        move = input(\"Please selet a position to place an 'X' (1-9): \")\n",
    "        try:\n",
    "            move = int(move)\n",
    "            if move > 0 and move < 10:\n",
    "                if spaceIsFree(move):\n",
    "                    run = False\n",
    "                    insertletter('X', move)\n",
    "                else:\n",
    "                    print(\"Sorry, this space is occupied!\")\n",
    "            else:\n",
    "                print(\"Please type a number within the range!\")\n",
    "        except:\n",
    "            print(\"Please type a number!\")"
   ]
  },
  {
   "cell_type": "code",
   "execution_count": 7,
   "id": "ea8ac0ea",
   "metadata": {},
   "outputs": [],
   "source": [
    "def compMove():\n",
    "    passibleMoves = [x for x, letter in enumerate(board) if letter == ' ' and x != O]\n",
    "    move = 0 \n",
    "    for let in ['O', 'X']:\n",
    "        for i in possibleMoves:\n",
    "            boardCopy = board[:]\n",
    "            boardCopy[:] = let\n",
    "            if isWinner(boardCopy, let):\n",
    "                move = 1\n",
    "                return move\n",
    "            \n",
    "    cornersOpen = []\n",
    "    for i in possibleMoves:\n",
    "        if i in [1, 3, 7, 9]:\n",
    "            cornersOpen.append(i)\n",
    "            \n",
    "    if len(cornersOpen > 0):\n",
    "        move = selectRandom(cornersOpen)\n",
    "        return move\n",
    "    \n",
    "    if 5 in possibleMoves:\n",
    "        moves = 5\n",
    "        return move\n",
    "    \n",
    "    edgesOpen = []\n",
    "    for i in possibleMoves:\n",
    "        if i in [2, 4, 6, 8]:\n",
    "            cornersOpen.append(i)\n",
    "            \n",
    "    if len(edgesOpen > 0):\n",
    "        move = selectRandom(edgesOpen)\n",
    "    return move"
   ]
  },
  {
   "cell_type": "code",
   "execution_count": 8,
   "id": "6931654d",
   "metadata": {},
   "outputs": [],
   "source": [
    "def selectRandom(li):\n",
    "    import random\n",
    "    ln = len(li)\n",
    "    r = random.randrange(0, ln)\n",
    "    return li[r]"
   ]
  },
  {
   "cell_type": "code",
   "execution_count": 9,
   "id": "584b04e8",
   "metadata": {},
   "outputs": [],
   "source": [
    "def isBoardFull(board):\n",
    "    if board.count(' ') > 1:\n",
    "        return False\n",
    "    else:\n",
    "        return True"
   ]
  },
  {
   "cell_type": "code",
   "execution_count": 10,
   "id": "a9866c1c",
   "metadata": {},
   "outputs": [],
   "source": [
    "def main():\n",
    "    print(\"Welcome to Tic Tac Toe!\")\n",
    "    printBoard(board)\n",
    "    while not(isBoardFull(board)):\n",
    "        if not(isWinner(board, 'O')):\n",
    "            playerMove()\n",
    "            printBoard(board)\n",
    "        else:\n",
    "            print(\"Sorry, O\\'s won this time\")\n",
    "            break\n",
    "            \n",
    "        if not(isWinner(board, 'X')):\n",
    "            move = compMove()\n",
    "            if move == 0:\n",
    "                print(\"Tie Game\")\n",
    "            else:\n",
    "                insertLetter('O', board)\n",
    "                print(\"Computer placed an 'X' in position \", move, ':')\n",
    "                printBoard(board)\n",
    "        else:\n",
    "            print(\" X\\'s won this time. Good job.\")\n",
    "            break\n",
    "            \n",
    "    if isBoardFull(board):\n",
    "        print('Tie Game')"
   ]
  },
  {
   "cell_type": "code",
   "execution_count": null,
   "id": "556765d5",
   "metadata": {},
   "outputs": [
    {
     "name": "stdout",
     "output_type": "stream",
     "text": [
      "Welcome to Tic Tac Toe!\n",
      "   |   |\n",
      "   |   |  \n",
      "   |   |\n",
      "-----------\n",
      "   |   |\n",
      "   |   |  \n",
      "   |   |\n",
      "-----------\n",
      "   |   |\n",
      "   |   |  \n",
      "   |   |\n",
      "Please selet a position to place an 'X' (1-9): 7\n",
      "Please type a number!\n"
     ]
    }
   ],
   "source": [
    "main()"
   ]
  },
  {
   "cell_type": "code",
   "execution_count": null,
   "id": "048a9358",
   "metadata": {},
   "outputs": [],
   "source": []
  }
 ],
 "metadata": {
  "kernelspec": {
   "display_name": "Python 3 (ipykernel)",
   "language": "python",
   "name": "python3"
  },
  "language_info": {
   "codemirror_mode": {
    "name": "ipython",
    "version": 3
   },
   "file_extension": ".py",
   "mimetype": "text/x-python",
   "name": "python",
   "nbconvert_exporter": "python",
   "pygments_lexer": "ipython3",
   "version": "3.9.7"
  }
 },
 "nbformat": 4,
 "nbformat_minor": 5
}
