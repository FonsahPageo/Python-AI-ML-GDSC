{
 "cells": [
  {
   "cell_type": "code",
   "execution_count": 2,
   "id": "f13b442c",
   "metadata": {},
   "outputs": [
    {
     "data": {
      "text/plain": [
       "9"
      ]
     },
     "execution_count": 2,
     "metadata": {},
     "output_type": "execute_result"
    }
   ],
   "source": [
    "x = lambda a: a*a\n",
    "x(3)"
   ]
  },
  {
   "cell_type": "code",
   "execution_count": 3,
   "id": "a0abbdc9",
   "metadata": {},
   "outputs": [
    {
     "data": {
      "text/plain": [
       "16"
      ]
     },
     "execution_count": 3,
     "metadata": {},
     "output_type": "execute_result"
    }
   ],
   "source": [
    "def new(a):\n",
    "    return a*a\n",
    "new(4)"
   ]
  },
  {
   "cell_type": "markdown",
   "id": "ea453ab4",
   "metadata": {},
   "source": [
    "\n",
    "### Lambda within filter()"
   ]
  },
  {
   "cell_type": "code",
   "execution_count": 6,
   "id": "faace295",
   "metadata": {},
   "outputs": [
    {
     "name": "stdout",
     "output_type": "stream",
     "text": [
      "[6]\n"
     ]
    }
   ],
   "source": [
    "mylist = [1, 2, 3, 4, 5, 6]\n",
    "newlist = list(filter(lambda a: (a/3 == 2), mylist)) #syntax filter(function, iterables)\n",
    "print(newlist)"
   ]
  },
  {
   "cell_type": "markdown",
   "id": "e58415c2",
   "metadata": {},
   "source": [
    "### Lambda within map()"
   ]
  },
  {
   "cell_type": "code",
   "execution_count": 7,
   "id": "dcc13359",
   "metadata": {},
   "outputs": [
    {
     "name": "stdout",
     "output_type": "stream",
     "text": [
      "[True, True, True, True, True, False]\n"
     ]
    }
   ],
   "source": [
    "mylist = [1, 2, 3, 4, 5, 6]\n",
    "p = list(map(lambda a: (a/3 != 2), mylist))\n",
    "print(p)"
   ]
  },
  {
   "cell_type": "markdown",
   "id": "6ad87589",
   "metadata": {},
   "source": [
    "## lambda within reduce()\n"
   ]
  },
  {
   "cell_type": "code",
   "execution_count": 8,
   "id": "cdef23d5",
   "metadata": {},
   "outputs": [
    {
     "data": {
      "text/plain": [
       "221"
      ]
     },
     "execution_count": 8,
     "metadata": {},
     "output_type": "execute_result"
    }
   ],
   "source": [
    "from functools import reduce\n",
    "reduce(lambda a,b: a+b, [23,  56, 43, 98, 1]) #recursively adds each number to the next"
   ]
  },
  {
   "cell_type": "markdown",
   "id": "8dd374a1",
   "metadata": {},
   "source": [
    "# Lambda for algebra"
   ]
  },
  {
   "cell_type": "markdown",
   "id": "c3f27a02",
   "metadata": {},
   "source": [
    "## linear equations"
   ]
  },
  {
   "cell_type": "code",
   "execution_count": 11,
   "id": "30926bfb",
   "metadata": {},
   "outputs": [
    {
     "data": {
      "text/plain": [
       "49"
      ]
     },
     "execution_count": 11,
     "metadata": {},
     "output_type": "execute_result"
    }
   ],
   "source": [
    "s = lambda a: a*a\n",
    "s(7)"
   ]
  },
  {
   "cell_type": "code",
   "execution_count": 12,
   "id": "656e65a7",
   "metadata": {},
   "outputs": [
    {
     "data": {
      "text/plain": [
       "40"
      ]
     },
     "execution_count": 12,
     "metadata": {},
     "output_type": "execute_result"
    }
   ],
   "source": [
    "d = lambda x, y: 3*x + 4*y\n",
    "d(4, 7)"
   ]
  },
  {
   "cell_type": "markdown",
   "id": "288c344b",
   "metadata": {},
   "source": [
    "## quadratic eqaution\n"
   ]
  },
  {
   "cell_type": "code",
   "execution_count": 14,
   "id": "27078967",
   "metadata": {},
   "outputs": [
    {
     "data": {
      "text/plain": [
       "25"
      ]
     },
     "execution_count": 14,
     "metadata": {},
     "output_type": "execute_result"
    }
   ],
   "source": [
    "x = lambda a, b: (a+b)**2\n",
    "x(2,3)"
   ]
  },
  {
   "cell_type": "code",
   "execution_count": 15,
   "id": "eba0eb79",
   "metadata": {},
   "outputs": [
    {
     "data": {
      "text/plain": [
       "2401"
      ]
     },
     "execution_count": 15,
     "metadata": {},
     "output_type": "execute_result"
    }
   ],
   "source": [
    "7**4\n"
   ]
  },
  {
   "cell_type": "code",
   "execution_count": 16,
   "id": "84483c95",
   "metadata": {},
   "outputs": [
    {
     "name": "stdout",
     "output_type": "stream",
     "text": [
      "The diameter of the Earth is 12742km\n"
     ]
    }
   ],
   "source": [
    "planet = \"Earth\"\n",
    "diameter = \"12742\"\n",
    "unit = \"km\"\n",
    "print(\"The diameter of the {} is {}{}\".format(planet, diameter, unit))"
   ]
  },
  {
   "cell_type": "code",
   "execution_count": null,
   "id": "e29096a4",
   "metadata": {},
   "outputs": [],
   "source": []
  }
 ],
 "metadata": {
  "kernelspec": {
   "display_name": "Python 3 (ipykernel)",
   "language": "python",
   "name": "python3"
  },
  "language_info": {
   "codemirror_mode": {
    "name": "ipython",
    "version": 3
   },
   "file_extension": ".py",
   "mimetype": "text/x-python",
   "name": "python",
   "nbconvert_exporter": "python",
   "pygments_lexer": "ipython3",
   "version": "3.9.7"
  }
 },
 "nbformat": 4,
 "nbformat_minor": 5
}
